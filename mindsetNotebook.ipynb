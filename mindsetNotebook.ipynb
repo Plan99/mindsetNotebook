{
 "metadata": {
  "name": "",
  "signature": "sha256:3e898c5d6d39f75afe49f011a35eca4940a5a1ee32a5a8e3956ee7941450269b"
 },
 "nbformat": 3,
 "nbformat_minor": 0,
 "worksheets": [
  {
   "cells": [
    {
     "cell_type": "code",
     "collapsed": false,
     "input": [
      "%matplotlib inline\n",
      "\n",
      "import plotly\n",
      "from NeuroPy import NeuroPy\n",
      "import time\n",
      "import plotly.plotly as py  \n",
      "import plotly.tools as tls   \n",
      "from plotly.graph_objs import *\n",
      "import numpy as np\n",
      "import matplotlib.pyplot as plt\n",
      "\n",
      "tls.set_credentials_file(\n",
      "        username=\"plan99\", \n",
      "        api_key=\"0hmt8pdvto\")\n",
      "\n",
      "stream_ids = tls.get_credentials_file()['stream_ids']"
     ],
     "language": "python",
     "metadata": {},
     "outputs": []
    },
    {
     "cell_type": "code",
     "collapsed": false,
     "input": [
      "object1=NeuroPy(\"/dev/tty.MindSet-DevB\",57600)\n",
      "object1.start()"
     ],
     "language": "python",
     "metadata": {},
     "outputs": []
    },
    {
     "cell_type": "code",
     "collapsed": false,
     "input": [
      "scan = object1.attention\n",
      "print scan"
     ],
     "language": "python",
     "metadata": {},
     "outputs": []
    },
    {
     "cell_type": "code",
     "collapsed": false,
     "input": [
      "# Get stream id from stream id list \n",
      "stream_id = stream_ids[1]\n",
      "\n",
      "# Make instance of stream id object \n",
      "stream = Stream(\n",
      "    token=stream_id,  # link stream id to 'token' key\n",
      "    maxpoints=80      # keep a max of 80 pts on screen\n",
      ")"
     ],
     "language": "python",
     "metadata": {},
     "outputs": []
    },
    {
     "cell_type": "code",
     "collapsed": false,
     "input": [
      "# Initialize trace of streaming plot by embedding the unique stream_id\n",
      "trace1 = Scatter(\n",
      "    x=[],\n",
      "    y=[],\n",
      "    mode='lines+markers',\n",
      "    stream=stream         # (!) embed stream id, 1 per trace\n",
      ")\n",
      "\n",
      "data = Data([trace1])"
     ],
     "language": "python",
     "metadata": {},
     "outputs": []
    },
    {
     "cell_type": "code",
     "collapsed": false,
     "input": [
      "# Add title to layout object\n",
      "layout = Layout(title='Attention Level',yaxis=YAxis(range=[-2,102]))\n",
      "\n",
      "# Make a figure object\n",
      "fig = Figure(data=data, layout=layout)\n",
      "\n",
      "# (@) Send fig to Plotly, initialize streaming plot, open new tab\n",
      "unique_url = py.plot(fig, filename='mindset')"
     ],
     "language": "python",
     "metadata": {},
     "outputs": []
    },
    {
     "cell_type": "code",
     "collapsed": false,
     "input": [
      "# (@) Make instance of the Stream link object, \n",
      "#     with same stream id as Stream id object\n",
      "s1 = py.Stream(stream_id)\n",
      "\n",
      "# (@) Open the stream\n",
      "s1.open()"
     ],
     "language": "python",
     "metadata": {},
     "outputs": []
    },
    {
     "cell_type": "code",
     "collapsed": false,
     "input": [
      "# (*) Import module keep track and format current time\n",
      "import datetime \n",
      "import time   \n",
      " \n",
      "i = 0    # a counter\n",
      "k = 5    # some shape parameter\n",
      "N = 200  # number of points to be plotted\n",
      "\n",
      "# Delay start of stream by 5 sec (time to switch tabs)\n",
      "time.sleep(5) \n",
      "\n",
      "while True:\n",
      "    i += 1   # add to counter\n",
      "    \n",
      "    # Current time on x-axis, random numbers on y-axis\n",
      "    x=datetime.datetime.now().strftime('%Y-%m-%d %H:%M:%S.%f')\n",
      "    try:\n",
      "        y=object1.attention\n",
      "    except:\n",
      "        pass\n",
      "    \n",
      "    # (-) Both x and y are numbers (i.e. not lists nor arrays)\n",
      "    \n",
      "    # (@) write to Plotly stream!\n",
      "    s1.write(dict(x=x,y=y))  \n",
      "    \n",
      "    # (!) Write numbers to stream to append current data on plot,\n",
      "    #     write lists to overwrite existing data on plot (more in 7.2).\n",
      "            \n",
      "    time.sleep(0.08)  # (!) plot a point every 80 ms, for smoother plotting\n",
      "    \n",
      "# (@) Close the stream when done plotting\n",
      "s1.close() "
     ],
     "language": "python",
     "metadata": {},
     "outputs": []
    },
    {
     "cell_type": "code",
     "collapsed": false,
     "input": [],
     "language": "python",
     "metadata": {},
     "outputs": []
    }
   ],
   "metadata": {}
  }
 ]
}